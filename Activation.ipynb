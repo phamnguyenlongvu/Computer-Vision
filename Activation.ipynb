{
  "nbformat": 4,
  "nbformat_minor": 0,
  "metadata": {
    "colab": {
      "provenance": [],
      "authorship_tag": "ABX9TyO17nzpKufSqjW55AuecZHX",
      "include_colab_link": true
    },
    "kernelspec": {
      "name": "python3",
      "display_name": "Python 3"
    },
    "language_info": {
      "name": "python"
    },
    "accelerator": "GPU",
    "gpuClass": "standard"
  },
  "cells": [
    {
      "cell_type": "markdown",
      "metadata": {
        "id": "view-in-github",
        "colab_type": "text"
      },
      "source": [
        "<a href=\"https://colab.research.google.com/github/phamnguyenlongvu/Computer-Vision/blob/main/Activation.ipynb\" target=\"_parent\"><img src=\"https://colab.research.google.com/assets/colab-badge.svg\" alt=\"Open In Colab\"/></a>"
      ]
    },
    {
      "cell_type": "code",
      "execution_count": 1,
      "metadata": {
        "id": "xTP-vskHIgBy"
      },
      "outputs": [],
      "source": [
        "import numpy as np\n",
        "import tensorflow as tf\n",
        "import tensorflow.keras.datasets as datasets\n",
        "from tensorflow.keras import layers, models\n",
        "\n",
        "import matplotlib.pyplot as plt"
      ]
    },
    {
      "cell_type": "code",
      "source": [
        "(x_train, y_train), (x_test, y_test) = datasets.mnist.load_data()"
      ],
      "metadata": {
        "id": "gsorECJwTuKE",
        "colab": {
          "base_uri": "https://localhost:8080/"
        },
        "outputId": "f1dcc43b-bc97-4a99-8667-565649a0d39c"
      },
      "execution_count": 2,
      "outputs": [
        {
          "output_type": "stream",
          "name": "stdout",
          "text": [
            "Downloading data from https://storage.googleapis.com/tensorflow/tf-keras-datasets/mnist.npz\n",
            "11490434/11490434 [==============================] - 0s 0us/step\n"
          ]
        }
      ]
    },
    {
      "cell_type": "code",
      "source": [
        "print('X train shape:', x_train.shape)\n",
        "print('Y train shape:', y_train.shape)"
      ],
      "metadata": {
        "colab": {
          "base_uri": "https://localhost:8080/"
        },
        "id": "iq-aOY_2URq7",
        "outputId": "9ad09216-0d46-42c7-b5d1-862749b659f8"
      },
      "execution_count": 3,
      "outputs": [
        {
          "output_type": "stream",
          "name": "stdout",
          "text": [
            "X train shape: (60000, 28, 28)\n",
            "Y train shape: (60000,)\n"
          ]
        }
      ]
    },
    {
      "cell_type": "code",
      "source": [
        "print('X test shape:', x_test.shape)"
      ],
      "metadata": {
        "colab": {
          "base_uri": "https://localhost:8080/"
        },
        "id": "Fq-sTbJ9eiQs",
        "outputId": "d952b5ee-af5e-4f80-fc8a-90e7f3799196"
      },
      "execution_count": 4,
      "outputs": [
        {
          "output_type": "stream",
          "name": "stdout",
          "text": [
            "X test shape: (10000, 28, 28)\n"
          ]
        }
      ]
    },
    {
      "cell_type": "code",
      "source": [
        "# Visualize data\n",
        "def show_sample():\n",
        "    fig, axs = plt.subplots(3, 3, figsize=(8, 8))\n",
        "    axs = axs.flatten()\n",
        "    sample = np.random.choice(range(x_train.shape[0]), 9)\n",
        "    for i, data in enumerate(sample):\n",
        "        axs[i].imshow(x_train[data], cmap='gray')\n",
        "        axs[i].set_title(y_train[data])\n",
        "        axs[i].axis('off')\n",
        "    plt.show()\n",
        "show_sample()"
      ],
      "metadata": {
        "colab": {
          "base_uri": "https://localhost:8080/",
          "height": 675
        },
        "id": "ex8KaftlT-xZ",
        "outputId": "fa06af95-ce5a-432a-8df5-7ca042f402af"
      },
      "execution_count": 5,
      "outputs": [
        {
          "output_type": "display_data",
          "data": {
            "text/plain": [
              "<Figure size 800x800 with 9 Axes>"
            ],
            "image/png": "[encoded data removed]"
          },
          "metadata": {}
        }
      ]
    },
    {
      "cell_type": "code",
      "source": [
        "from tensorflow.keras.preprocessing.image import ImageDataGenerator\n",
        "from tensorflow.keras.utils import to_categorical, plot_model\n",
        "\n",
        "x_train = x_train.reshape((x_train.shape[0], 28, 28, 1))\n",
        "x_test = x_test.reshape((x_test.shape[0], 28, 28, 1))\n",
        "\n",
        "y_train = to_categorical(y_train)\n",
        "y_test = to_categorical(y_test)\n",
        "\n",
        "batch_size = 128\n",
        "datagen = ImageDataGenerator(\n",
        "    rotation_range=10,\n",
        "    width_shift_range=0.1,\n",
        "    height_shift_range=0.1,\n",
        "    zoom_range=0.1, \n",
        "    rescale = 1./255,\n",
        "    validation_split=0.2\n",
        ")\n",
        "\n",
        "train_gen = datagen.flow(\n",
        "    x_train,\n",
        "    y_train,\n",
        "    batch_size=batch_size,\n",
        "    subset='training'\n",
        ")\n",
        "\n",
        "val_gen = datagen.flow(\n",
        "    x_train,\n",
        "    y_train,\n",
        "    batch_size=batch_size,\n",
        "    subset='validation'\n",
        ")\n",
        "\n",
        "testgen = ImageDataGenerator()\n",
        "test_gen = testgen.flow(\n",
        "    x_test, \n",
        "    y_test,\n",
        "    batch_size=batch_size\n",
        ")"
      ],
      "metadata": {
        "id": "0hmJeSPsWu_7"
      },
      "execution_count": 6,
      "outputs": []
    },
    {
      "cell_type": "code",
      "source": [
        "print(\"Y train: %s value %s\" % (y_train.shape, y_train[0]))"
      ],
      "metadata": {
        "colab": {
          "base_uri": "https://localhost:8080/"
        },
        "id": "OPDA9ZVPT7dm",
        "outputId": "f1dca2ac-4e64-4639-9776-1debbce576e3"
      },
      "execution_count": 7,
      "outputs": [
        {
          "output_type": "stream",
          "name": "stdout",
          "text": [
            "Y train: (60000, 10) value [0. 0. 0. 0. 0. 1. 0. 0. 0. 0.]\n"
          ]
        }
      ]
    },
    {
      "cell_type": "markdown",
      "source": [
        "# Model with RELU"
      ],
      "metadata": {
        "id": "iEn1POJyy2tO"
      }
    },
    {
      "cell_type": "code",
      "source": [
        "from tensorflow.keras.optimizers import SGD\n",
        "def create_model():\n",
        "    model = models.Sequential()\n",
        "    model.add(layers.Conv2D(32, (3, 3), activation='relu', kernel_initializer='he_uniform', input_shape=(28,28,1)))\n",
        "    model.add(layers.MaxPooling2D((2, 2)))\n",
        "    model.add(layers.Conv2D(64, (3, 3), activation='relu', kernel_initializer='he_uniform'))\n",
        "    model.add(layers.Conv2D(64, (3, 3), activation='relu', kernel_initializer='he_uniform'))\n",
        "    model.add(layers.MaxPooling2D((2, 2)))\n",
        "    model.add(layers.Flatten())\n",
        "    model.add(layers.Dense(100, activation='relu', kernel_initializer='he_uniform'))\n",
        "    model.add(layers.Dense(10, activation='softmax'))\n",
        "\n",
        "    # compile model\n",
        "    opt = SGD(learning_rate=0.01, momentum=0.9)\n",
        "    model.compile(optimizer=opt, loss='categorical_crossentropy', metrics=['accuracy'])\n",
        "    return model"
      ],
      "metadata": {
        "id": "PuUX3Qn4EQPN"
      },
      "execution_count": null,
      "outputs": []
    },
    {
      "cell_type": "code",
      "source": [
        "model = create_model()"
      ],
      "metadata": {
        "id": "t3Cna-9tViDu"
      },
      "execution_count": null,
      "outputs": []
    },
    {
      "cell_type": "code",
      "source": [
        "plot_model(model)"
      ],
      "metadata": {
        "colab": {
          "base_uri": "https://localhost:8080/",
          "height": 856
        },
        "id": "q1d9eJQLVkGu",
        "outputId": "d020a3e1-5cc3-4b7a-d3ce-63209782fba2"
      },
      "execution_count": null,
      "outputs": [
        {
          "output_type": "execute_result",
          "data": {
            "image/png": "[encoded data removed]",
            "text/plain": [
              "<IPython.core.display.Image object>"
            ]
          },
          "metadata": {},
          "execution_count": 81
        }
      ]
    },
    {
      "cell_type": "code",
      "source": [
        "model.summary()"
      ],
      "metadata": {
        "colab": {
          "base_uri": "https://localhost:8080/"
        },
        "id": "-TzDs9sIVw2M",
        "outputId": "46866298-893a-45bb-f643-dfcf5df56887"
      },
      "execution_count": null,
      "outputs": [
        {
          "output_type": "stream",
          "name": "stdout",
          "text": [
            "Model: \"sequential_5\"\n",
            "_________________________________________________________________\n",
            " Layer (type)                Output Shape              Param #   \n",
            "=================================================================\n",
            " conv2d_15 (Conv2D)          (None, 26, 26, 32)        320       \n",
            "                                                                 \n",
            " max_pooling2d_10 (MaxPoolin  (None, 13, 13, 32)       0         \n",
            " g2D)                                                            \n",
            "                                                                 \n",
            " conv2d_16 (Conv2D)          (None, 11, 11, 64)        18496     \n",
            "                                                                 \n",
            " conv2d_17 (Conv2D)          (None, 9, 9, 64)          36928     \n",
            "                                                                 \n",
            " max_pooling2d_11 (MaxPoolin  (None, 4, 4, 64)         0         \n",
            " g2D)                                                            \n",
            "                                                                 \n",
            " flatten_5 (Flatten)         (None, 1024)              0         \n",
            "                                                                 \n",
            " dense_10 (Dense)            (None, 100)               102500    \n",
            "                                                                 \n",
            " dense_11 (Dense)            (None, 10)                1010      \n",
            "                                                                 \n",
            "=================================================================\n",
            "Total params: 159,254\n",
            "Trainable params: 159,254\n",
            "Non-trainable params: 0\n",
            "_________________________________________________________________\n"
          ]
        }
      ]
    },
    {
      "cell_type": "code",
      "source": [
        "from tensorflow.keras.callbacks import ModelCheckpoint, EarlyStopping\n",
        "\n",
        "cbs =[\n",
        "    EarlyStopping(patience=3, restore_best_weights=True),\n",
        "    ModelCheckpoint('Mnist.h5', save_best_only=True)\n",
        "]\n",
        "\n",
        "model.fit(train_gen, validation_data=val_gen, epochs=30, batch_size=128, verbose=2, callbacks=cbs)"
      ],
      "metadata": {
        "colab": {
          "base_uri": "https://localhost:8080/"
        },
        "id": "EwTer-4YV2bN",
        "outputId": "1ab38316-9ffd-4ce2-907b-513bbe6a0f23"
      },
      "execution_count": null,
      "outputs": [
        {
          "output_type": "stream",
          "name": "stdout",
          "text": [
            "Epoch 1/30\n",
            "375/375 - 29s - loss: 0.4325 - accuracy: 0.8616 - val_loss: 0.1718 - val_accuracy: 0.9482 - 29s/epoch - 78ms/step\n",
            "Epoch 2/30\n",
            "375/375 - 22s - loss: 0.1451 - accuracy: 0.9550 - val_loss: 0.1174 - val_accuracy: 0.9651 - 22s/epoch - 59ms/step\n",
            "Epoch 3/30\n",
            "375/375 - 21s - loss: 0.1065 - accuracy: 0.9669 - val_loss: 0.1003 - val_accuracy: 0.9697 - 21s/epoch - 56ms/step\n",
            "Epoch 4/30\n",
            "375/375 - 17s - loss: 0.0877 - accuracy: 0.9729 - val_loss: 0.0888 - val_accuracy: 0.9704 - 17s/epoch - 46ms/step\n",
            "Epoch 5/30\n",
            "375/375 - 20s - loss: 0.0762 - accuracy: 0.9762 - val_loss: 0.0847 - val_accuracy: 0.9733 - 20s/epoch - 52ms/step\n",
            "Epoch 6/30\n",
            "375/375 - 18s - loss: 0.0666 - accuracy: 0.9794 - val_loss: 0.0888 - val_accuracy: 0.9742 - 18s/epoch - 47ms/step\n",
            "Epoch 7/30\n",
            "375/375 - 18s - loss: 0.0615 - accuracy: 0.9801 - val_loss: 0.0651 - val_accuracy: 0.9790 - 18s/epoch - 49ms/step\n",
            "Epoch 8/30\n",
            "375/375 - 18s - loss: 0.0578 - accuracy: 0.9816 - val_loss: 0.0647 - val_accuracy: 0.9810 - 18s/epoch - 47ms/step\n",
            "Epoch 9/30\n",
            "375/375 - 18s - loss: 0.0560 - accuracy: 0.9827 - val_loss: 0.0703 - val_accuracy: 0.9788 - 18s/epoch - 48ms/step\n",
            "Epoch 10/30\n",
            "375/375 - 18s - loss: 0.0493 - accuracy: 0.9847 - val_loss: 0.0555 - val_accuracy: 0.9821 - 18s/epoch - 49ms/step\n",
            "Epoch 11/30\n",
            "375/375 - 18s - loss: 0.0471 - accuracy: 0.9851 - val_loss: 0.0520 - val_accuracy: 0.9837 - 18s/epoch - 47ms/step\n",
            "Epoch 12/30\n",
            "375/375 - 18s - loss: 0.0435 - accuracy: 0.9863 - val_loss: 0.0539 - val_accuracy: 0.9844 - 18s/epoch - 48ms/step\n",
            "Epoch 13/30\n",
            "375/375 - 20s - loss: 0.0417 - accuracy: 0.9873 - val_loss: 0.0558 - val_accuracy: 0.9837 - 20s/epoch - 52ms/step\n",
            "Epoch 14/30\n",
            "375/375 - 32s - loss: 0.0407 - accuracy: 0.9868 - val_loss: 0.0561 - val_accuracy: 0.9839 - 32s/epoch - 86ms/step\n"
          ]
        },
        {
          "output_type": "execute_result",
          "data": {
            "text/plain": [
              "<keras.callbacks.History at 0x7f13a4763790>"
            ]
          },
          "metadata": {},
          "execution_count": 83
        }
      ]
    },
    {
      "cell_type": "code",
      "source": [
        "from keras.models import load_model\n",
        "model_trained = load_model('./Mnist.h5')\n",
        "test_loss, test_acc = model_trained.evaluate(test_gen)\n",
        "print('Acc: ', test_acc)"
      ],
      "metadata": {
        "id": "aFhMgZzyjOZ_",
        "colab": {
          "base_uri": "https://localhost:8080/"
        },
        "outputId": "079f99f3-7ac2-4d12-f963-6242a2cb4053"
      },
      "execution_count": null,
      "outputs": [
        {
          "output_type": "stream",
          "name": "stdout",
          "text": [
            "79/79 [==============================] - 1s 7ms/step - loss: 3.8792 - accuracy: 0.9910\n",
            "Acc:  0.9909999966621399\n"
          ]
        }
      ]
    },
    {
      "cell_type": "code",
      "source": [
        "# Predict label for test_image\n",
        "\n",
        "pred = model_trained.predict(x_test)\n",
        "\n",
        "print('1. Prediction array: %s' % (pred[0]))\n",
        "\n",
        "print('2. Label number having highest confidence in prediction array: %s' % (np.argmax(pred[0])))\n",
        "\n",
        "print('3. Actual label in dataset: %s' % (y_test[0]))"
      ],
      "metadata": {
        "colab": {
          "base_uri": "https://localhost:8080/"
        },
        "id": "q_23-G3al2U0",
        "outputId": "f34bd2c1-c0b5-4f5b-e60b-1c22f7e11bb7"
      },
      "execution_count": null,
      "outputs": [
        {
          "output_type": "stream",
          "name": "stdout",
          "text": [
            "313/313 [==============================] - 1s 2ms/step\n",
            "1. Prediction array: [0. 0. 0. 0. 0. 0. 0. 1. 0. 0.]\n",
            "2. Label number having highest confidence in prediction array: 7\n",
            "3. Actual label in dataset: [0. 0. 0. 0. 0. 0. 0. 1. 0. 0.]\n"
          ]
        }
      ]
    },
    {
      "cell_type": "code",
      "source": [
        "class_names =['Zero', 'One', 'Two', 'Three', 'Four', 'Five', 'Six', 'Seven', 'Eight', 'Nine']\n",
        "\n",
        "def plot_image(i, pred, true_label, img):\n",
        "    pred, true_label, img = pred[i], true_label[i], img[i]\n",
        "    plt.grid(False)\n",
        "    plt.xticks([])\n",
        "    plt.yticks([])\n",
        "\n",
        "    plt.imshow(img, cmap=plt.cm.binary)\n",
        "\n",
        "    predicted_label = np.argmax(pred)\n",
        "    true_label = np.argmax(true_label)\n",
        "\n",
        "    if predicted_label == true_label:\n",
        "        color = 'blue'\n",
        "    \n",
        "    else:\n",
        "        color = 'red'\n",
        "\n",
        "    plt.xlabel(\"{} ({})\".format(class_names[predicted_label], \n",
        "                                class_names[true_label]), color=color)\n",
        "    "
      ],
      "metadata": {
        "id": "-bYYyJrcnSMt"
      },
      "execution_count": null,
      "outputs": []
    },
    {
      "cell_type": "code",
      "source": [
        "def plot_value_array(i, pred, true_label):\n",
        "    pred, true_label = pred[i], true_label[i]\n",
        "    plt.grid(False)\n",
        "    plt.xticks([])\n",
        "    plt.yticks([])\n",
        "    thisplot = plt.bar(range(10), pred, color='gray')\n",
        "    plt.ylim([0,1])\n",
        "    pred = np.argmax(pred)\n",
        "    true_label = np.argmax(true_label)\n",
        "\n",
        "    thisplot[pred].set_color('red')\n",
        "    thisplot[true_label].set_color('green')"
      ],
      "metadata": {
        "id": "CTt7JnWlpvDJ"
      },
      "execution_count": null,
      "outputs": []
    },
    {
      "cell_type": "code",
      "source": [
        "i = 18\n",
        "plt.figure(figsize=(6, 3))\n",
        "plt.subplot(1, 2, 1)\n",
        "\n",
        "plot_image(i, pred, y_test, x_test)\n",
        "\n",
        "plt.subplot(1, 2, 2)\n",
        "plot_value_array(i, pred, y_test)\n",
        "plt.show()"
      ],
      "metadata": {
        "colab": {
          "base_uri": "https://localhost:8080/",
          "height": 277
        },
        "id": "Rt6-tOMkrS-l",
        "outputId": "84dad376-6fc2-4e48-ac32-8075b0de76d5"
      },
      "execution_count": null,
      "outputs": [
        {
          "output_type": "display_data",
          "data": {
            "text/plain": [
              "<Figure size 600x300 with 2 Axes>"
            ],
            "image/png": "[encoded data removed]"
          },
          "metadata": {}
        }
      ]
    },
    {
      "cell_type": "markdown",
      "source": [
        "# Model with leaky ReLU"
      ],
      "metadata": {
        "id": "fTjb-WE2y_BA"
      }
    },
    {
      "cell_type": "code",
      "source": [
        "def leaky_relu(z, name=None):\n",
        "    return tf.maximum(0.01*z, z, name=name)"
      ],
      "metadata": {
        "id": "x2widpTPy-LR"
      },
      "execution_count": 8,
      "outputs": []
    },
    {
      "cell_type": "code",
      "source": [
        "from tensorflow.keras.optimizers import SGD\n",
        "def create_model():\n",
        "    model = models.Sequential()\n",
        "    model.add(layers.Conv2D(32, (3, 3), activation=leaky_relu, kernel_initializer='he_uniform', input_shape=(28,28,1)))\n",
        "    model.add(layers.MaxPooling2D((2, 2)))\n",
        "    model.add(layers.Conv2D(64, (3, 3), activation=leaky_relu, kernel_initializer='he_uniform'))\n",
        "    model.add(layers.Conv2D(64, (3, 3), activation=leaky_relu, kernel_initializer='he_uniform'))\n",
        "    model.add(layers.MaxPooling2D((2, 2)))\n",
        "    model.add(layers.Flatten())\n",
        "    model.add(layers.Dense(100, activation=leaky_relu, kernel_initializer='he_uniform'))\n",
        "    model.add(layers.Dense(10, activation='softmax'))\n",
        "\n",
        "    # compile model\n",
        "    opt = SGD(learning_rate=0.01, momentum=0.9)\n",
        "    model.compile(optimizer=opt, loss='categorical_crossentropy', metrics=['accuracy'])\n",
        "    return model"
      ],
      "metadata": {
        "id": "1pB4XGw6zxpl"
      },
      "execution_count": 9,
      "outputs": []
    },
    {
      "cell_type": "code",
      "source": [
        "model = create_model()"
      ],
      "metadata": {
        "id": "TU-VmVzU0WFc"
      },
      "execution_count": 11,
      "outputs": []
    },
    {
      "cell_type": "code",
      "source": [
        "from tensorflow.keras.callbacks import ModelCheckpoint, EarlyStopping\n",
        "\n",
        "cbs =[\n",
        "    EarlyStopping(patience=3, restore_best_weights=True),\n",
        "    ModelCheckpoint('Mnist.h5', save_best_only=True)\n",
        "]\n",
        "\n",
        "model.fit(train_gen, validation_data=val_gen, epochs=30, batch_size=128, verbose=2, callbacks=cbs)"
      ],
      "metadata": {
        "colab": {
          "base_uri": "https://localhost:8080/"
        },
        "id": "vaxHL0640Gow",
        "outputId": "f5454277-b816-4fcc-f143-b676e0ddc7fa"
      },
      "execution_count": 12,
      "outputs": [
        {
          "output_type": "stream",
          "name": "stdout",
          "text": [
            "Epoch 1/30\n",
            "375/375 - 29s - loss: 0.4443 - accuracy: 0.8560 - val_loss: 0.1738 - val_accuracy: 0.9448 - 29s/epoch - 78ms/step\n",
            "Epoch 2/30\n",
            "375/375 - 19s - loss: 0.1488 - accuracy: 0.9544 - val_loss: 0.1234 - val_accuracy: 0.9608 - 19s/epoch - 50ms/step\n",
            "Epoch 3/30\n",
            "375/375 - 18s - loss: 0.1115 - accuracy: 0.9655 - val_loss: 0.0955 - val_accuracy: 0.9742 - 18s/epoch - 48ms/step\n",
            "Epoch 4/30\n",
            "375/375 - 20s - loss: 0.0879 - accuracy: 0.9731 - val_loss: 0.0917 - val_accuracy: 0.9718 - 20s/epoch - 52ms/step\n",
            "Epoch 5/30\n",
            "375/375 - 18s - loss: 0.0765 - accuracy: 0.9764 - val_loss: 0.0891 - val_accuracy: 0.9746 - 18s/epoch - 47ms/step\n",
            "Epoch 6/30\n",
            "375/375 - 19s - loss: 0.0709 - accuracy: 0.9777 - val_loss: 0.0745 - val_accuracy: 0.9775 - 19s/epoch - 51ms/step\n",
            "Epoch 7/30\n",
            "375/375 - 19s - loss: 0.0631 - accuracy: 0.9801 - val_loss: 0.0633 - val_accuracy: 0.9812 - 19s/epoch - 51ms/step\n",
            "Epoch 8/30\n",
            "375/375 - 19s - loss: 0.0596 - accuracy: 0.9816 - val_loss: 0.0662 - val_accuracy: 0.9795 - 19s/epoch - 51ms/step\n",
            "Epoch 9/30\n",
            "375/375 - 18s - loss: 0.0575 - accuracy: 0.9819 - val_loss: 0.0622 - val_accuracy: 0.9808 - 18s/epoch - 48ms/step\n",
            "Epoch 10/30\n",
            "375/375 - 19s - loss: 0.0511 - accuracy: 0.9832 - val_loss: 0.0471 - val_accuracy: 0.9861 - 19s/epoch - 51ms/step\n",
            "Epoch 11/30\n",
            "375/375 - 18s - loss: 0.0475 - accuracy: 0.9854 - val_loss: 0.0561 - val_accuracy: 0.9827 - 18s/epoch - 48ms/step\n",
            "Epoch 12/30\n",
            "375/375 - 19s - loss: 0.0463 - accuracy: 0.9851 - val_loss: 0.0508 - val_accuracy: 0.9843 - 19s/epoch - 50ms/step\n",
            "Epoch 13/30\n",
            "375/375 - 20s - loss: 0.0433 - accuracy: 0.9868 - val_loss: 0.0554 - val_accuracy: 0.9828 - 20s/epoch - 53ms/step\n"
          ]
        },
        {
          "output_type": "execute_result",
          "data": {
            "text/plain": [
              "<keras.callbacks.History at 0x7fd510094eb0>"
            ]
          },
          "metadata": {},
          "execution_count": 12
        }
      ]
    },
    {
      "cell_type": "code",
      "source": [
        "from keras.models import load_model\n",
        "model_trained = load_model('./Mnist.h5')\n",
        "test_loss, test_acc = model_trained.evaluate(test_gen)\n",
        "print('Acc: ', test_acc)"
      ],
      "metadata": {
        "colab": {
          "base_uri": "https://localhost:8080/"
        },
        "id": "UMRQKt7Z1ift",
        "outputId": "f8dcaabe-84c3-47d7-edb2-8c1fd4c7427e"
      },
      "execution_count": 13,
      "outputs": [
        {
          "output_type": "stream",
          "name": "stdout",
          "text": [
            "79/79 [==============================] - 1s 9ms/step - loss: 34.5903 - accuracy: 0.9550\n",
            "Acc:  0.9549999833106995\n"
          ]
        }
      ]
    },
    {
      "cell_type": "markdown",
      "source": [
        "# ELU"
      ],
      "metadata": {
        "id": "KFLDn9KQ1uWt"
      }
    },
    {
      "cell_type": "code",
      "source": [
        "from tensorflow.keras.optimizers import SGD\n",
        "def create_model():\n",
        "    model = models.Sequential()\n",
        "    model.add(layers.Conv2D(32, (3, 3), activation='elu', kernel_initializer='he_uniform', input_shape=(28,28,1)))\n",
        "    model.add(layers.MaxPooling2D((2, 2)))\n",
        "    model.add(layers.Conv2D(64, (3, 3), activation='elu', kernel_initializer='he_uniform'))\n",
        "    model.add(layers.Conv2D(64, (3, 3), activation='elu', kernel_initializer='he_uniform'))\n",
        "    model.add(layers.MaxPooling2D((2, 2)))\n",
        "    model.add(layers.Flatten())\n",
        "    model.add(layers.Dense(100, activation='elu', kernel_initializer='he_uniform'))\n",
        "    model.add(layers.Dense(10, activation='softmax'))\n",
        "\n",
        "    # compile model\n",
        "    opt = SGD(learning_rate=0.01, momentum=0.9)\n",
        "    model.compile(optimizer=opt, loss='categorical_crossentropy', metrics=['accuracy'])\n",
        "    return model"
      ],
      "metadata": {
        "id": "Hpg9Yu1k17Zf"
      },
      "execution_count": 14,
      "outputs": []
    },
    {
      "cell_type": "code",
      "source": [
        "model = create_model()"
      ],
      "metadata": {
        "id": "ZAcY8lPx2IiX"
      },
      "execution_count": 15,
      "outputs": []
    },
    {
      "cell_type": "code",
      "source": [
        "from tensorflow.keras.callbacks import ModelCheckpoint, EarlyStopping\n",
        "\n",
        "cbs =[\n",
        "    EarlyStopping(patience=3, restore_best_weights=True),\n",
        "    ModelCheckpoint('Mnist.h5', save_best_only=True)\n",
        "]\n",
        "\n",
        "model.fit(train_gen, validation_data=val_gen, epochs=30, batch_size=128, verbose=2, callbacks=cbs)"
      ],
      "metadata": {
        "colab": {
          "base_uri": "https://localhost:8080/"
        },
        "id": "7r3LLs3v2LmI",
        "outputId": "d24c2865-d696-4770-d6de-2525cfd9d3fc"
      },
      "execution_count": 16,
      "outputs": [
        {
          "output_type": "stream",
          "name": "stdout",
          "text": [
            "Epoch 1/30\n",
            "375/375 - 20s - loss: 0.3676 - accuracy: 0.8832 - val_loss: 0.1774 - val_accuracy: 0.9455 - 20s/epoch - 53ms/step\n",
            "Epoch 2/30\n",
            "375/375 - 19s - loss: 0.1294 - accuracy: 0.9597 - val_loss: 0.1051 - val_accuracy: 0.9689 - 19s/epoch - 50ms/step\n",
            "Epoch 3/30\n",
            "375/375 - 20s - loss: 0.0922 - accuracy: 0.9714 - val_loss: 0.0795 - val_accuracy: 0.9756 - 20s/epoch - 53ms/step\n",
            "Epoch 4/30\n",
            "375/375 - 18s - loss: 0.0801 - accuracy: 0.9756 - val_loss: 0.0818 - val_accuracy: 0.9747 - 18s/epoch - 48ms/step\n",
            "Epoch 5/30\n",
            "375/375 - 19s - loss: 0.0651 - accuracy: 0.9798 - val_loss: 0.0776 - val_accuracy: 0.9764 - 19s/epoch - 50ms/step\n",
            "Epoch 6/30\n",
            "375/375 - 17s - loss: 0.0607 - accuracy: 0.9814 - val_loss: 0.0702 - val_accuracy: 0.9786 - 17s/epoch - 47ms/step\n",
            "Epoch 7/30\n",
            "375/375 - 20s - loss: 0.0572 - accuracy: 0.9821 - val_loss: 0.0563 - val_accuracy: 0.9837 - 20s/epoch - 53ms/step\n",
            "Epoch 8/30\n",
            "375/375 - 18s - loss: 0.0536 - accuracy: 0.9828 - val_loss: 0.0676 - val_accuracy: 0.9808 - 18s/epoch - 47ms/step\n",
            "Epoch 9/30\n",
            "375/375 - 19s - loss: 0.0491 - accuracy: 0.9848 - val_loss: 0.0549 - val_accuracy: 0.9831 - 19s/epoch - 49ms/step\n",
            "Epoch 10/30\n",
            "375/375 - 18s - loss: 0.0463 - accuracy: 0.9859 - val_loss: 0.0476 - val_accuracy: 0.9851 - 18s/epoch - 48ms/step\n",
            "Epoch 11/30\n",
            "375/375 - 18s - loss: 0.0432 - accuracy: 0.9864 - val_loss: 0.0449 - val_accuracy: 0.9865 - 18s/epoch - 49ms/step\n",
            "Epoch 12/30\n",
            "375/375 - 18s - loss: 0.0380 - accuracy: 0.9878 - val_loss: 0.0502 - val_accuracy: 0.9851 - 18s/epoch - 47ms/step\n",
            "Epoch 13/30\n",
            "375/375 - 19s - loss: 0.0393 - accuracy: 0.9876 - val_loss: 0.0456 - val_accuracy: 0.9879 - 19s/epoch - 52ms/step\n",
            "Epoch 14/30\n",
            "375/375 - 18s - loss: 0.0369 - accuracy: 0.9884 - val_loss: 0.0506 - val_accuracy: 0.9855 - 18s/epoch - 47ms/step\n"
          ]
        },
        {
          "output_type": "execute_result",
          "data": {
            "text/plain": [
              "<keras.callbacks.History at 0x7fd49072dfd0>"
            ]
          },
          "metadata": {},
          "execution_count": 16
        }
      ]
    },
    {
      "cell_type": "code",
      "source": [
        "from keras.models import load_model\n",
        "model_trained = load_model('./Mnist.h5')\n",
        "test_loss, test_acc = model_trained.evaluate(test_gen)\n",
        "print('Acc: ', test_acc)"
      ],
      "metadata": {
        "colab": {
          "base_uri": "https://localhost:8080/"
        },
        "id": "2ja8CwhD3Yc3",
        "outputId": "20f30eab-0686-4b5b-f321-6c18a78f0aeb"
      },
      "execution_count": 17,
      "outputs": [
        {
          "output_type": "stream",
          "name": "stdout",
          "text": [
            "79/79 [==============================] - 1s 7ms/step - loss: 44.9274 - accuracy: 0.7733\n",
            "Acc:  0.7732999920845032\n"
          ]
        }
      ]
    },
    {
      "cell_type": "code",
      "source": [
        "# compare\n",
        "relu = [0.9868, 0.9909]\n",
        "leaky_relu = [0.9868, 0.9549]\n",
        "elu = [0.9884, 0.7732]\n",
        "\n",
        "fig, ax = plt.subplots()\n",
        "ax.bar(0.5, [relu[0], 0], 0.5)\n",
        "ax.bar(1.5, [leaky_relu[0], 0], 0.5)\n",
        "ax.bar(2.5, [elu[0], 0], 0.5)\n",
        "plt.title('Accuracy comparison')\n",
        "# plt.xticks(['relu', 'leaky_relu', 'elu'])\n",
        "plt.xlabel('Activation')\n",
        "plt.ylabel('Accuracy')\n",
        "plt.show()\n",
        "\n",
        "fig, ax = plt.subplots()\n",
        "ax.bar(0.5, [relu[1], 0], 0.5)\n",
        "ax.bar(1.5, [leaky_relu[1], 0], 0.5)\n",
        "ax.bar(2.5, [elu[1], 0], 0.5)\n",
        "plt.title('Accuracy comparison')\n",
        "# plt.xticks(['relu', 'leaky_relu', 'elu'])\n",
        "plt.xlabel('Activation')\n",
        "plt.ylabel('Accuracy')\n",
        "plt.show()\n",
        "\n"
      ],
      "metadata": {
        "colab": {
          "base_uri": "https://localhost:8080/",
          "height": 927
        },
        "id": "2nLRD4p43Y8F",
        "outputId": "1f37795e-57d4-4cd5-8997-ad7fd6050611"
      },
      "execution_count": 26,
      "outputs": [
        {
          "output_type": "display_data",
          "data": {
            "text/plain": [
              "<Figure size 640x480 with 1 Axes>"
            ],
            "image/png": "[encoded data removed]"
          },
          "metadata": {}
        },
        {
          "output_type": "display_data",
          "data": {
            "text/plain": [
              "<Figure size 640x480 with 1 Axes>"
            ],
            "image/png": "[encoded data removed]"
          },
          "metadata": {}
        }
      ]
    }
  ]
}